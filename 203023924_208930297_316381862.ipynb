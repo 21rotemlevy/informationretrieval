{
 "cells": [
  {
   "cell_type": "markdown",
   "metadata": {},
   "source": [
    "# Homework 1: Information Retrieval\n",
    "## Instructions\n",
    "1. Students will form teams of three people each and submit a single homework for each team in the format - ID1_ID2_ID3.ipynb\n",
    "2. Groups of three!\n",
    "2. **Do not write your names anywhere.**\n",
    "3. For the code part: \n",
    "> **Write your code only in the mentioned sections. Do not change the code of other sections**. Do not use any imports unless we say so.\n",
    "4. For theoretical questions, if any - write your answer in the markdown cell dedicated to this task, in **English**.\n",
    "\n",
    "\n",
    "#### Deviation from the aforementioned  instructions will lead to reduced grade\n",
    "---\n",
    "\n",
    "\n",
    "## Clarifications\n",
    "1. The same score for the homework will be given to each member of the team.  \n",
    "2. The goal of this homework is to test your understanding of the concepts presented in the lectures. \\\n",
    "Anyhow, we provide here detailed explanations for the code part and if you have problems - ask.\n",
    "3. Questions can be sent to the forum, you are encouraged to ask questions but do so after you have been thinking about your question. \n",
    "4. The length of the empty gaps (where you are supposed to write your code) is a recommendation (the amount of space took us to write the solution) and writing longer code will not harm your grade. We do not expect you to use the programming tricks and hacks we used to make the code shorter.   \n",
    "Having said that, we do encourage you to write good code and keep that in mind - **extreme** cases may be downgraded.  \n",
    "We also encourage to use informative variable names - it is easier for us to check and for you to understand. \n",
    "\n",
    "Since it is the first time we provide this homework please notify us if there is a bug/something is unclear, typo's exc..\n",
    "\n",
    "5. We use Python 3.7 for programming.\n",
    "6. Make sure you have all the packages and functions used in the import section. Most of it is native to Anaconda Python distribution.\n",
    "\n",
    "### Have fun !"
   ]
  },
  {
   "cell_type": "markdown",
   "metadata": {},
   "source": [
    "# Imports"
   ]
  },
  {
   "cell_type": "code",
   "execution_count": 1,
   "metadata": {},
   "outputs": [
    {
     "name": "stderr",
     "output_type": "stream",
     "text": [
      "[nltk_data] Downloading package stopwords to\n",
      "[nltk_data]     C:\\Users\\Tom\\AppData\\Roaming\\nltk_data...\n",
      "[nltk_data]   Package stopwords is already up-to-date!\n",
      "[nltk_data] Downloading package punkt to\n",
      "[nltk_data]     C:\\Users\\Tom\\AppData\\Roaming\\nltk_data...\n",
      "[nltk_data]   Package punkt is already up-to-date!\n"
     ]
    },
    {
     "data": {
      "text/plain": [
       "True"
      ]
     },
     "execution_count": 1,
     "metadata": {},
     "output_type": "execute_result"
    }
   ],
   "source": [
    "import numpy as np\n",
    "import pandas as pd\n",
    "from collections import Counter\n",
    "%matplotlib inline\n",
    "from tqdm import tqdm\n",
    "from typing import List,Dict\n",
    "from IPython.display import Image\n",
    "from IPython.core.display import HTML \n",
    "import time\n",
    "import os\n",
    "from nltk.tokenize import word_tokenize \n",
    "from nltk.stem.porter import PorterStemmer\n",
    "import nltk\n",
    "from string import punctuation, ascii_lowercase\n",
    "from nltk.corpus import stopwords\n",
    "from math import log, sqrt\n",
    "\n",
    "nltk.download(\"stopwords\")\n",
    "nltk.download(\"punkt\")"
   ]
  },
  {
   "cell_type": "code",
   "execution_count": 2,
   "metadata": {},
   "outputs": [],
   "source": [
    "tic = time.perf_counter() #Start timer"
   ]
  },
  {
   "cell_type": "markdown",
   "metadata": {},
   "source": [
    "# Config"
   ]
  },
  {
   "cell_type": "code",
   "execution_count": 3,
   "metadata": {},
   "outputs": [],
   "source": [
    "cwd=os.getcwd()\n",
    "INPUT_FILE_PATH = os.path.join(cwd, \"lyrics.csv\")\n",
    "BOW_PATH = os.path.join(cwd, \"bow.csv\")\n",
    "N_ROWS = 100000\n",
    "CHUNCK_SIZE = 5000\n",
    "tqdm_n_iterations = N_ROWS//CHUNCK_SIZE +1\n",
    "COLS = [0]"
   ]
  },
  {
   "cell_type": "markdown",
   "metadata": {},
   "source": [
    "## 1.1 Bag of words /TfIdf model\n",
    "### Implement the following methods:\n",
    "\n",
    "* `preprocess_sentence`: \n",
    "    * Lower case the word\n",
    "    * Ignores it if it's in the stopwords list\n",
    "    * Removes characters which are not in the allowed symbols\n",
    "    * Stems it and appends it to the output sentence\n",
    "    * Discards words with length <= 1\n",
    "    \n",
    "    \n",
    "* `update_counts_and_probabilities`: \n",
    "\n",
    "    * Update self.unigram count (the amount of time each word is in the text)\n",
    "    * Update self.bigram count (two consecutive word occurances)\n",
    "    * Update inverted index: a dictionary with words as keys and the values is a dictionary - {'DocID' : word_count}   \n",
    "    \n",
    "* `compute_word_document_frequency`:\n",
    "\n",
    "   * For each word count the number of docs it appears in. For example , for the word 'apple' -\n",
    "$$\\sum_{i \\in docs} I(apple \\in doc_i), I := Indicator function$$\n",
    "\n",
    "\n",
    "* `update_inverted_index_with_tf_idf_and_compute_document_norm`:\n",
    "\n",
    "    * Update the inverted index (which currently hold word counts) with tf idf weighing. We will compute tf by dividing with the number of words in each document. \n",
    "    * As we want to calculate the document norm, incrementally update the document norm. pay attention that later we apply sqrt to it to finish the process.\n",
    "\n",
    "#### The result of this code is a bag of words model that already counts for TF-IDF weighing"
   ]
  },
  {
   "cell_type": "code",
   "execution_count": 4,
   "metadata": {},
   "outputs": [],
   "source": [
    "stemmer = PorterStemmer()\n",
    "stop_words = set(stopwords.words('english'))\n",
    "allowed_symbols = set(l for l in ascii_lowercase)"
   ]
  },
  {
   "cell_type": "code",
   "execution_count": 5,
   "metadata": {},
   "outputs": [],
   "source": [
    "def preprocess_sentence(sentence : str) -> List[str]:\n",
    "    '''\n",
    "    this function preprocesses a sentence by tokenizing it, removing stop words, stemming and removing punctuation and non-english words\n",
    "\n",
    "    Parameters\n",
    "    ----------\n",
    "    sentence : str\n",
    "        a string representing a sentence\n",
    "    \n",
    "    Returns\n",
    "    -------\n",
    "    List[str]\n",
    "        a list of words\n",
    "    '''\n",
    "    output_sentence = []\n",
    "    for word in word_tokenize(sentence):\n",
    "        ### YOUR CODE HERE\n",
    "     # Tokenize the sentence into words\n",
    "        words = word_tokenize(sentence)\n",
    "\n",
    "        # Remove stop words\n",
    "        stop_words = set(stopwords.words('english'))\n",
    "        words = [word for word in words if not word.lower() in stop_words]\n",
    "\n",
    "        # Initialize the Porter stemmer\n",
    "        porter = PorterStemmer()\n",
    "\n",
    "        # Stem the words\n",
    "        output_sentence = [porter.stem(word) for word in words]\n",
    "\n",
    "        # Remove punctuation and non-English words\n",
    "        output_sentence = [word.lower() for word in words if word.isalpha()]\n",
    "\n",
    "        return output_sentence\n",
    "\n",
    "            ### END YOUR CODE\n",
    "\n",
    "\n",
    "def get_data_chuncks() -> List[str]:\n",
    "    for i ,chunck in enumerate(pd.read_csv(INPUT_FILE_PATH, usecols = COLS, chunksize = CHUNCK_SIZE, nrows = N_ROWS)):\n",
    "        chunck = chunck.values.tolist()\n",
    "        yield [chunck[i][0] for i in range(len(chunck))] "
   ]
  },
  {
   "cell_type": "code",
   "execution_count": 6,
   "metadata": {},
   "outputs": [],
   "source": [
    "class TfIdf:\n",
    "    def __init__(self):\n",
    "        #unigram_count is a dictionary that maps a word to the number of times it appears in the corpus\n",
    "        self.unigram_count =  Counter()\n",
    "        #bigram_count is a dictionary that maps a bigram to the number of times it appears in the corpus\n",
    "        self.bigram_count = Counter()\n",
    "        #document_term_frequency is a dictionary that maps a document id to the number of words in the document\n",
    "        self.document_term_frequency = Counter()\n",
    "        #word_document_frequency is a dictionary that maps a word to the number of documents it appears in\n",
    "        self.word_document_frequency = {}\n",
    "        #inverted_index is a dictionary that maps a word to a dictionary that maps a document id to the tf-idf weight of the word in the document\n",
    "        self.inverted_index = {}\n",
    "        #doc_norms is a dictionary that maps a document id to the norm of the document\n",
    "        self.doc_norms = {}\n",
    "        #n_docs is the number of documents in the corpus\n",
    "        self.n_docs = -1\n",
    "        #sentence_preprocesser is a function that preprocesses a sentence\n",
    "        self.sentence_preprocesser = preprocess_sentence\n",
    "        #bow_path is the path to the bag of words\n",
    "        self.bow_path = BOW_PATH\n",
    "    \n",
    "    def update_counts_and_probabilities(self, sentence:List[str], document_id:int) -> None:\n",
    "        '''\n",
    "        This function updates the unigram and bigram counts and the inverted index given a sentence and a document id\n",
    "\n",
    "        Parameters\n",
    "        ----------\n",
    "        sentence : List[str]\n",
    "            A list of words\n",
    "        document_id : int\n",
    "            The id of the document\n",
    "\n",
    "        Returns\n",
    "        -------\n",
    "        None\n",
    "        '''\n",
    "        sentence_len = len(sentence)\n",
    "        self.document_term_frequency[document_id] = sentence_len\n",
    "        for i, word in enumerate(sentence):\n",
    "            self.unigram_count[word] += 1\n",
    "            if i > 0:\n",
    "                bigram = sentence[i-1] + ' ' + word\n",
    "                self.bigram_count[bigram] += 1\n",
    "            if word not in self.word_document_frequency:\n",
    "                self.word_document_frequency[word] = set()\n",
    "            self.word_document_frequency[word].add(document_id)\n",
    "\n",
    "        for word in set(sentence):\n",
    "            if word not in self.inverted_index:\n",
    "                self.inverted_index[word] = {}\n",
    "            tf = 1 + log(sentence.count(word))\n",
    "            df = len(self.word_document_frequency[word])\n",
    "            if df < self.n_docs:\n",
    "                idf = log(self.n_docs/df)\n",
    "                tf_idf = tf * idf\n",
    "                self.inverted_index[word][document_id] = tf_idf\n",
    "\n",
    "        if document_id in self.inverted_index[word]:\n",
    "            self.doc_norms[document_id] = sqrt(sum(pow(self.inverted_index[word][document_id], 2) for word in self.inverted_index if document_id in self.inverted_index[word]))\n",
    "\n",
    "            ### END YOUR CODE\n",
    "\n",
    "        \n",
    "    def fit(self) -> None:\n",
    "        for chunck in tqdm(get_data_chuncks(), total = tqdm_n_iterations):\n",
    "            for sentence in chunck: #sentence is a song (string)\n",
    "                self.n_docs += 1 \n",
    "                if not isinstance(sentence, str):\n",
    "                    continue\n",
    "                sentence = self.sentence_preprocesser(sentence)\n",
    "                if sentence:\n",
    "                    self.update_counts_and_probabilities(sentence,self.n_docs)\n",
    "        self.save_bow() # bow is 'bag of words'\n",
    "        self.compute_word_document_frequency()\n",
    "        self.update_inverted_index_with_tf_idf_and_compute_document_norm()\n",
    "\n",
    "    def compute_word_document_frequency(self):\n",
    "        '''\n",
    "        Computes the word document frequency for each word in the inverted index. The word document frequency is the number of documents in the corpus that contain a particular word.\n",
    "\n",
    "        Parameters\n",
    "        ----------\n",
    "        None\n",
    "\n",
    "        Returns\n",
    "        -------\n",
    "        None\n",
    "        '''\n",
    "        for word in self.inverted_index.keys():\n",
    "            self.word_document_frequency[word] = len(self.inverted_index[word].keys())\n",
    "\n",
    "\n",
    "    def update_inverted_index_with_tf_idf_and_compute_document_norm(self):\n",
    "        '''\n",
    "        Updates the inverted index with tf-idf weighting and computes the document norm for each document.\n",
    "\n",
    "        Parameters\n",
    "        ----------\n",
    "        None\n",
    "\n",
    "        Returns\n",
    "        -------\n",
    "        None\n",
    "        '''\n",
    "        for word in self.inverted_index.keys():\n",
    "            for doc_id in self.inverted_index[word].keys():\n",
    "                tf = self.inverted_index[word][doc_id]\n",
    "                idf = log(self.n_docs/self.word_document_frequency[word])\n",
    "                tf_idf = tf * idf\n",
    "                self.inverted_index[word][doc_id] = tf_idf\n",
    "                if doc_id not in self.doc_norms:\n",
    "                    self.doc_norms[doc_id] = 0.0\n",
    "                self.doc_norms[doc_id] += pow(tf_idf, 2)\n",
    "\n",
    "            for doc in self.doc_norms.keys():\n",
    "                self.doc_norms[doc] = np.sqrt(self.doc_norms[doc]) \n",
    "\n",
    "    def save_bow(self):\n",
    "        pd.DataFrame([self.inverted_index]).T.to_csv(self.bow_path)"
   ]
  },
  {
   "cell_type": "code",
   "execution_count": 7,
   "metadata": {},
   "outputs": [
    {
     "name": "stderr",
     "output_type": "stream",
     "text": [
      " 95%|█████████▌| 20/21 [34:29<01:43, 103.49s/it]\n"
     ]
    }
   ],
   "source": [
    "tf_idf = TfIdf()\n",
    "tf_idf.fit()"
   ]
  },
  {
   "cell_type": "markdown",
   "metadata": {},
   "source": [
    "## 1.11 Bag of words model:\n",
    "\n",
    "1. What is the computational complexity of this model, as a function of the number of docs in the corpus?\n",
    "2. How can we make this code better in terms running time (parallelization or other topics you find)? "
   ]
  },
  {
   "cell_type": "raw",
   "metadata": {},
   "source": [
    "### YOUR SOLUTION HERE\n",
    "1. The computational complexity of the bag of words model is dependent on the number of documents in the corpus and the vocabulary size. Specifically, for each document, the model needs to iterate through each word in the document and update the counts and probabilities. Therefore, the complexity is O(N*M), where N is the number of documents and M is the average length of a document in terms of words.\n",
    "\n",
    "2. To make this code better in terms of running time, we can consider parallelization techniques. For example, we can use multi-threading or multi-processing to distribute the work across multiple cores or machines. We can also use techniques such as MapReduce to divide the work into smaller chunks that can be processed in parallel. Additionally, we can consider using more efficient data structures and algorithms, such as sparse matrices and hash tables, to optimize memory usage and lookup times. Finally, we can also pre-process the data to remove stop words, perform stemming, and use other techniques to reduce the vocabulary size and improve the model's performance.\n",
    "\n",
    "### END YOUR SOLUTION"
   ]
  },
  {
   "cell_type": "markdown",
   "metadata": {},
   "source": [
    "## 1.2 DocumentRetriever\n",
    "Not this retriever &#8595;"
   ]
  },
  {
   "cell_type": "markdown",
   "metadata": {},
   "source": [
    "\n",
    "![dsafdsafsdafdsf](https://cdn3-www.dogtime.com/assets/uploads/2019/10/golden-cocker-retriever-mixed-dog-breed-pictures-cover-1.jpg)"
   ]
  },
  {
   "cell_type": "markdown",
   "metadata": {},
   "source": [
    "### Implement the following methods:\n",
    "\n",
    "`reduce_query_to_counts`: given a list of words returns a counter object with words as keys and counts as values.\n",
    "\n",
    "`rank`: given a query and relevant documents calculate the similarity (cosine or inner product simialrity) between each document and the query.   \n",
    "Make sure to transform the query word counts to tf idf as well. \n",
    "\n",
    "`sort_and_retrieve_k_best`: returns the top k documents."
   ]
  },
  {
   "cell_type": "code",
   "execution_count": 14,
   "metadata": {},
   "outputs": [],
   "source": [
    "class DocumentRetriever:\n",
    "    def __init__(self, tf_idf):\n",
    "        #sentence_preprocesser is a function that preprocesses a sentence\n",
    "        self.sentence_preprocesser = preprocess_sentence  \n",
    "        #vocab is a set of all the words in the corpus\n",
    "        self.vocab = set(tf_idf.unigram_count.keys())\n",
    "        #n_docs is the number of documents in the corpus\n",
    "        self.n_docs = tf_idf.n_docs\n",
    "        #inverted_index is a dictionary that maps a word to a dictionary that maps a document id to the tf-idf weight of the word in the document\n",
    "        self.inverted_index = tf_idf.inverted_index\n",
    "        #word_document_frequency is a dictionary that maps a word to the number of documents it appears in\n",
    "        self.word_document_frequency = tf_idf.word_document_frequency\n",
    "        #doc_norms is a dictionary that maps a document id to the norm of the document\n",
    "        self.doc_norms = tf_idf.doc_norms\n",
    "        \n",
    "    def rank(self, query:Dict[str,int], documents:Dict[str,Counter], metric:str) -> Dict[str, float]:\n",
    "        '''\n",
    "        this function ranks the documents according to the query and the chosen similarity metric\n",
    "\n",
    "        Parameters\n",
    "        ----------\n",
    "        query : Dict[str,int]\n",
    "            a dictionary of words and their counts in the query\n",
    "        documents : Dict[str,Counter]\n",
    "            a dictionary of documents that contain the query words and their tf-idf weights\n",
    "        metric : str\n",
    "            the similarity metric to use. can be 'cosine' or 'dot'\n",
    "        \n",
    "        Returns\n",
    "        -------\n",
    "        Dict[str, float]\n",
    "            a dictionary of documents and their similarity to the query\n",
    "        '''\n",
    "        result = {} # key: DocID , value : float , simmilarity to query\n",
    "        query_len = np.sum(np.array(list(query.values())))\n",
    "        ### YOUR CODE HERE\n",
    "        \n",
    "        for doc_id, doc_counter in documents.items():\n",
    "            # Compute the dot product or cosine similarity between the query and the document\n",
    "        \n",
    "            ### END YOUR CODE\n",
    "            if metric == 'cosine':\n",
    "                ### YOUR CODE HERE\n",
    "                # Compute the cosine similarity between the query and the document\n",
    "                dot_product = sum([query[word]*doc_counter[word] for word in query if word in doc_counter])\n",
    "                query_norm = np.sqrt(sum([query[word]**2 for word in query]))\n",
    "                doc_norm = np.sqrt(sum([doc_counter[word]**2 for word in doc_counter]))\n",
    "                similarity = dot_product / (query_norm * doc_norm)\n",
    "            elif metric == 'inner_product':\n",
    "                similarity = sum([query[word]*doc_counter[word] for word in query if word in doc_counter])\n",
    "                ### END YOUR CODE\n",
    "            else:\n",
    "                raise ValueError(\"Invalid metric. Must be 'cosine' or 'inner_product'.\")\n",
    "            result[doc_id] = similarity\n",
    "        return result\n",
    "        \n",
    "    \n",
    "    def sort_and_retrieve_k_best(self, scores:Dict[str, float], k:int)-> List[str]:\n",
    "        '''\n",
    "        this function sorts the documents according to their similarity to the query and returns the k best documents\n",
    "        '''\n",
    "        ### YOUR CODE HERE \n",
    "        return [x[0] for x in (sorted(scores.items(), key=lambda x: x[1], reverse=True))[:k]]\n",
    "        ### END YOUR CODE\n",
    "\n",
    "    \n",
    "    def reduce_query_to_counts(self, query:List)->  Counter:\n",
    "        '''\n",
    "        this function reduces the query to a dictionary of words and their counts\n",
    "        '''\n",
    "        ### YOUR CODE HERE\n",
    "        return Counter(query)\n",
    "        ### END YOUR CODE\n",
    "        \n",
    "        \n",
    "    def get_top_k_documents(self, query:str, metric:str , k=5) -> List[str]:\n",
    "        query = self.sentence_preprocesser(query)\n",
    "        query = [word for word in query if word in self.vocab] # filter nan \n",
    "        query_bow = self.reduce_query_to_counts(query)\n",
    "        relavant_documents = {word : self.inverted_index.get(word) for word in query}\n",
    "        ducuments_with_similarity = self.rank(query_bow,relavant_documents, metric)\n",
    "        return self.sort_and_retrieve_k_best(ducuments_with_similarity,k)\n",
    "        \n",
    "dr = DocumentRetriever(tf_idf)"
   ]
  },
  {
   "cell_type": "code",
   "execution_count": 15,
   "metadata": {},
   "outputs": [
    {
     "data": {
      "text/html": [
       "<iframe width=\"560\" height=\"315\" src=\"https://www.youtube.com/embed/KT6ZtUbVw1M?rel=0&amp;controls=0&amp;showinfo=0\" frameborder=\"0\" allowfullscreen></iframe>"
      ],
      "text/plain": [
       "<IPython.core.display.HTML object>"
      ]
     },
     "execution_count": 15,
     "metadata": {},
     "output_type": "execute_result"
    }
   ],
   "source": [
    "from IPython.display import HTML\n",
    "query = \"Better stop dreaming of the quiet life, 'cause it's the one we'll never know And quit running for that runaway bus 'cause those rosy days are few And stop apologizing for the things you've never done 'Cause time is short and life is cruel but it's up to us to change This town called malice\"\n",
    "HTML('<iframe width=\"560\" height=\"315\" src=\"https://www.youtube.com/embed/KT6ZtUbVw1M?rel=0&amp;controls=0&amp;showinfo=0\" frameborder=\"0\" allowfullscreen></iframe>')"
   ]
  },
  {
   "cell_type": "code",
   "execution_count": 16,
   "metadata": {},
   "outputs": [
    {
     "name": "stdout",
     "output_type": "stream",
     "text": [
      "['better', 'stop', 'dreaming', 'quiet', 'life']\n",
      "['better', 'stop', 'dreaming', 'quiet', 'life']\n"
     ]
    }
   ],
   "source": [
    "cosine_top_k = dr.get_top_k_documents(query, 'cosine')\n",
    "print(cosine_top_k)\n",
    "inner_product_top_k = dr.get_top_k_documents(query, 'inner_product')\n",
    "print(inner_product_top_k)"
   ]
  },
  {
   "cell_type": "markdown",
   "metadata": {},
   "source": [
    "for index, song in enumerate(pd.read_csv(INPUT_FILE_PATH,usecols = [0]).iloc[cosine_top_k]['Lyric']):\n",
    "    sep = \"#\"*50\n",
    "    print(F\"{sep}\\nsong #{index} \\n{song} \\n{sep}\")"
   ]
  },
  {
   "cell_type": "markdown",
   "metadata": {},
   "source": [
    "# 1.3 term statistics:\n",
    "Use \"tf_idf\" object that we created earlier and answer the following questions:\n",
    "\n",
    "1. How many unique words we have?\n",
    "2. How many potential word bigrams we have? How many actual word bigrams we have? How do you explain this difference?\n",
    "3. What is the storage size of the input file \"lyrics.csv\"? What is the output file (bow.csv) size? how do you explain this difference?  "
   ]
  },
  {
   "cell_type": "code",
   "execution_count": 33,
   "metadata": {},
   "outputs": [
    {
     "name": "stdout",
     "output_type": "stream",
     "text": [
      "110681\n",
      "12250283761\n",
      "2905054\n",
      "168274338\n",
      "194019616\n"
     ]
    },
    {
     "data": {
      "text/plain": [
       "'\\n### Your verbal solution here\\nThe difference in file sizes between the input and output files can be explained by the fact that the \\ninput file contains raw text data, while the output file contains preprocessed and condensed information \\nin the form of the bag-of-words representation\\n### End your verbal solution here\\n'"
      ]
     },
     "execution_count": 33,
     "metadata": {},
     "output_type": "execute_result"
    }
   ],
   "source": [
    "# 1. \n",
    "### YOUR SOLUTION HERE\n",
    "unique_words = len(tf_idf.word_document_frequency.keys())\n",
    "print(unique_words)\n",
    "### END YOUR SOLUTION\n",
    "\n",
    "\"\"\"\n",
    "### Your verbal solution here\n",
    "The length of the frequency keys will determine the number of unique words\n",
    "### End your verbal solution here\n",
    "\"\"\"\n",
    "\n",
    "# 2.\n",
    "### YOUR SOLUTION HERE\n",
    "potential_bigrams = unique_words ** 2\n",
    "actual_bigrams = len(tf_idf.bigram_count.keys())\n",
    "print(potential_bigrams)\n",
    "print(actual_bigrams)\n",
    "### END YOUR SOLUTION\n",
    "\n",
    "\"\"\"\n",
    "### Your verbal solution here\n",
    "The potential number of bigrams is simply the square of the number of unique words.\n",
    "The actual number of bigrams is the number of bigrams that appear in the corpus.\n",
    "\n",
    "### End your verbal solution here\n",
    "\"\"\"\n",
    "\n",
    "# 3.\n",
    "### YOUR SOLUTION HERE\n",
    "input_file_size = os.path.getsize('lyrics.csv')\n",
    "output_file_size = os.path.getsize('bow.csv')\n",
    "print(input_file_size)\n",
    "print(output_file_size)\n",
    "### END YOUR SOLUTION\n",
    "\n",
    "\"\"\"\n",
    "### Your verbal solution here\n",
    "The difference in file sizes between the input and output files can be explained by the fact that the \n",
    "input file contains raw text data, while the output file contains preprocessed and condensed information \n",
    "in the form of the bag-of-words representation\n",
    "### End your verbal solution here\n",
    "\"\"\""
   ]
  },
  {
   "cell_type": "markdown",
   "metadata": {},
   "source": [
    "## 1.4 NgramSpellingCorrector\n",
    "Now we will implement a Ngarm (character Ngrams) spelling corrector. That is, we have an out of vocabulary word (v) and we want to retrieve the most similar words (in our vocabulary) to this word.\n",
    "we will model the similarity of two words by-\n",
    "\n",
    "$$JaccardIndex =  \\frac{|X \\cap Y|}{|X \\cup Y|}$$\n",
    "\n",
    "Where v is an out of vocabulary word (typo or spelling mistake), w is in a vocabulary word, X is the ngram set of v and Y is the ngram set of w.\n",
    "For example, if n == 3, the set of ngrams for word \"banana\" is set(\"ban\",\"ana\",\"nan\",\"ana\") = {\"ban\",\"ana\",\"nan\"}\n",
    "\n",
    "In order to do it efficently, we will first construct an index from the possible Ngrams we have seen in our corpus to the words that those Ngrams appear in, in order prevent comparing v to all of the words in our corpus.\n",
    "Then, we will implement a function that computes this similarity.\n",
    "\n",
    "* Make sure you compute the JaccardIndex efficently!"
   ]
  },
  {
   "cell_type": "code",
   "execution_count": 16,
   "metadata": {},
   "outputs": [
    {
     "data": {
      "text/plain": [
       "'\\nfor example - get_bigrams is a generator, which is an object we can loop on:\\nfor ngram in get_bigrams(word):\\n    DO SOMETHING\\n'"
      ]
     },
     "execution_count": 16,
     "metadata": {},
     "output_type": "execute_result"
    }
   ],
   "source": [
    "def get_bigrams(word):\n",
    "    for ngram in nltk.ngrams(word, 2):\n",
    "        yield \"\".join(list(ngram))\n",
    "    \n",
    "\"\"\"\n",
    "for example - get_bigrams is a generator, which is an object we can loop on:\n",
    "for ngram in get_bigrams(word):\n",
    "    DO SOMETHING\n",
    "\"\"\""
   ]
  },
  {
   "cell_type": "code",
   "execution_count": 17,
   "metadata": {},
   "outputs": [],
   "source": [
    "class NgramSpellingCorrector:\n",
    "    def __init__(self, unigram_counts: Counter, get_n_gram: callable):\n",
    "        #unigram_counts is a dictionary that maps a word to its count in the corpus\n",
    "        self.unigram_counts = unigram_counts\n",
    "        #ngram_index is a dictionary that maps an ngram to a set of words that contain it\n",
    "        self.ngram_index = {}\n",
    "        #get_n_grams is a function that returns the ngrams of a word\n",
    "        self.get_n_grams = get_n_gram\n",
    "    \n",
    "    def build_index(self) -> None:\n",
    "        '''\n",
    "        this function builds an index of ngrams to words that contain them\n",
    "        the structure of the index is a dictionary of ngrams to sets of words\n",
    "        '''\n",
    "        ### YOUR CODE HERE\n",
    "        \n",
    "        for word in self.unigram_counts.keys():  # For all words in the unigram dictionary\n",
    "            word_ngrams_set=set(self.get_n_grams(word))  # Split the word into letter pairs by the get_n_gram function (remove duplicate)\n",
    "            for ngram in word_ngrams_set:   # Go over all the ngrams\n",
    "                if ngram not in self.ngram_index:  # If ngram is not appended to the ngram_index dictionary \n",
    "                    self.ngram_index[ngram]=[]  # Initilize the value of this ngram as empty list\n",
    "                self.ngram_index[ngram].append(word)  # For each ngram (key) append to it's value the word which certainly contains this ngram\n",
    "       \n",
    "        ### END YOUR CODE\n",
    "        \n",
    "    def get_top_k_words(self,word:str,k=5) -> List[str]:\n",
    "        '''\n",
    "        this function returns the k most probable candidate words for a given out of vocabulary word\n",
    "\n",
    "        Parameters\n",
    "        ----------\n",
    "        word : str\n",
    "            the out of vocabulary word\n",
    "        k : int, optional\n",
    "            the number of candidates to return, by default 5\n",
    "        \n",
    "        Returns\n",
    "        -------\n",
    "        List[str]\n",
    "            a list of the k most probable candidate words\n",
    "        '''\n",
    "        ### YOUR CODE HERE\n",
    "\n",
    "        probabilties={}  # Initilize dictionary which contains the probabilties of similarity for each word\n",
    "        word_ngrams_set=set(self.get_n_grams(word)) # Split the word into letter pairs by the get_n_gram function (remove duplicate)\n",
    "        for ngram in word_ngrams_set:  # Go over all the word's ngrams\n",
    "            if ngram in self.ngram_index:  # If ngram in dictionary\n",
    "                for word in self.ngram_index[ngram]:  # Go over each word that contain this ngram\n",
    "                    if word not in probabilties: # If the word is not appears\n",
    "                        split_word=set(self.get_n_grams(word))  # Split the word into letter pairs by the get_n_gram function (remove duplicate)\n",
    "                        intersection = len(list(set(word_ngrams_set).intersection(split_word)))  # Calculated the intersection of ngrams between the two words \n",
    "                        union = (len(word_ngrams_set) + len(split_word)) - intersection  # Calculated the union of ngrams between the two words \n",
    "                        similarity=(float(intersection)/union)  # Calculated the similarity between the two words\n",
    "                        probabilties[word]=similarity  # Append the similarity to the dictionary under the word\n",
    "        return (list(dict(Counter(probabilties).most_common(k)).keys()) , probabilties) # Return the top K words with the highest similarity and the probabilities of all words\n",
    "        \n",
    "        ### END YOUR CODE\n",
    "\n",
    "\n",
    "class BigramSpellingCorrector(NgramSpellingCorrector):\n",
    "    def __init__(self, unigram_counts: Counter):\n",
    "        super().__init__(unigram_counts, get_bigrams)"
   ]
  },
  {
   "cell_type": "markdown",
   "metadata": {},
   "source": [
    "Code Understanding Question:\n",
    "\n",
    "In the \"get top k words\" function, does each candidate word have repeat ones or there is a channce that the same word will be iterated more than once? Explain your answer.\n",
    "\n",
    "Answer here:"
   ]
  },
  {
   "cell_type": "code",
   "execution_count": 18,
   "metadata": {},
   "outputs": [],
   "source": [
    "out_of_vocab_word = 'acress'\n",
    "bigram_spelling_corrector = BigramSpellingCorrector(tf_idf.unigram_count)\n",
    "bigram_spelling_corrector.build_index()\n",
    "candidate_words, scores = bigram_spelling_corrector.get_top_k_words(out_of_vocab_word)"
   ]
  },
  {
   "cell_type": "code",
   "execution_count": 19,
   "metadata": {},
   "outputs": [
    {
     "data": {
      "text/plain": [
       "['acres', 'cress', 'cresses', 'recress', 'massacres']"
      ]
     },
     "execution_count": 19,
     "metadata": {},
     "output_type": "execute_result"
    }
   ],
   "source": [
    "candidate_words"
   ]
  },
  {
   "cell_type": "code",
   "execution_count": 20,
   "metadata": {},
   "outputs": [
    {
     "name": "stdout",
     "output_type": "stream",
     "text": [
      "The jaccared score for the word acres is 0.8\n",
      "The jaccared score for the word cress is 0.8\n",
      "The jaccared score for the word cresses is 0.67\n",
      "The jaccared score for the word recress is 0.67\n",
      "The jaccared score for the word massacres is 0.62\n"
     ]
    }
   ],
   "source": [
    "for word in candidate_words:\n",
    "    print(f'The jaccared score for the word {word} is {round(scores[word],2)}')"
   ]
  },
  {
   "cell_type": "markdown",
   "metadata": {},
   "source": [
    "# The End - You did it!"
   ]
  },
  {
   "cell_type": "code",
   "execution_count": 2,
   "metadata": {},
   "outputs": [
    {
     "name": "stdout",
     "output_type": "stream",
     "text": [
      "The time it took to run the entire code is: 1907 minuts"
     ]
    }
   ],
   "source": [
    "#The time it took to run the entire code\n",
    "toc = time.perf_counter()\n",
    "\n",
    "print(f\"The time it took to run the entire code is: {(toc - tic)/60} minuts\")"
   ]
  },
  {
   "cell_type": "code",
   "execution_count": null,
   "metadata": {},
   "outputs": [],
   "source": []
  }
 ],
 "metadata": {
  "hide_input": false,
  "kernelspec": {
   "display_name": "Python 3 (ipykernel)",
   "language": "python",
   "name": "python3"
  },
  "language_info": {
   "codemirror_mode": {
    "name": "ipython",
    "version": 3
   },
   "file_extension": ".py",
   "mimetype": "text/x-python",
   "name": "python",
   "nbconvert_exporter": "python",
   "pygments_lexer": "ipython3",
   "version": "3.9.7"
  },
  "toc": {
   "base_numbering": 1,
   "nav_menu": {},
   "number_sections": true,
   "sideBar": true,
   "skip_h1_title": false,
   "title_cell": "Table of Contents",
   "title_sidebar": "Contents",
   "toc_cell": false,
   "toc_position": {},
   "toc_section_display": true,
   "toc_window_display": true
  },
  "vscode": {
   "interpreter": {
    "hash": "0162daef2ac4f91d71dc659d7366b1318efa6dce3a9605ecac659f5b282e8a3d"
   }
  }
 },
 "nbformat": 4,
 "nbformat_minor": 4
}
